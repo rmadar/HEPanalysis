{
 "cells": [
  {
   "cell_type": "code",
   "execution_count": 1,
   "metadata": {},
   "outputs": [
    {
     "name": "stdout",
     "output_type": "stream",
     "text": [
      "Welcome to JupyROOT 6.10/02\n"
     ]
    }
   ],
   "source": [
    "# Disable warnings\n",
    "import warnings\n",
    "warnings.filterwarnings('ignore')\n",
    "\n",
    "# Usual library\n",
    "import itertools\n",
    "import numpy             as np\n",
    "import pandas            as pd\n",
    "\n",
    "# root_numpy (http://scikit-hep.org/root_numpy)\n",
    "from root_numpy import root2array"
   ]
  },
  {
   "cell_type": "markdown",
   "metadata": {},
   "source": [
    "# Data and functions to be optimized"
   ]
  },
  {
   "cell_type": "code",
   "execution_count": 2,
   "metadata": {},
   "outputs": [
    {
     "data": {
      "text/plain": [
       "1622880"
      ]
     },
     "execution_count": 2,
     "metadata": {},
     "output_type": "execute_result"
    }
   ],
   "source": [
    "ar=root2array('410000.root','nominal_Loose',\n",
    "               branches=['jet_pt','jet_eta','jet_phi','jet_mv2c10','jet_isbtagged_77',\n",
    "                'el_pt','el_eta','el_phi',\n",
    "                'mu_pt','mu_eta','mu_phi',\n",
    "                'mu']\n",
    "             ).view(np.recarray)\n",
    "data=pd.DataFrame(ar)\n",
    "data.head(10)\n",
    "len(data)"
   ]
  },
  {
   "cell_type": "code",
   "execution_count": 3,
   "metadata": {},
   "outputs": [
    {
     "data": {
      "text/plain": [
       "1622880"
      ]
     },
     "execution_count": 3,
     "metadata": {},
     "output_type": "execute_result"
    }
   ],
   "source": [
    "large_data = pd.concat([data for _ in np.arange(1)])\n",
    "len(large_data)"
   ]
  },
  {
   "cell_type": "code",
   "execution_count": 4,
   "metadata": {},
   "outputs": [],
   "source": [
    "def square_array(a):\n",
    "    import numpy as np\n",
    "    lens = np.array([len(i) for i in a])\n",
    "    mask = np.arange(lens.max()) < lens[:,None]    \n",
    "    out = np.zeros(mask.shape, dtype='float32')\n",
    "    out.fill(np.nan)    \n",
    "    out[mask] = np.concatenate(a)   \n",
    "    return out\n",
    "\n",
    "def all_pairs(a,b=None,Nmax=None,axis=1):  \n",
    "    import numpy as np\n",
    "    import itertools   \n",
    "    same_arrays = b is None\n",
    "    if not same_arrays:\n",
    "        good_shape=np.array_equal(np.delete(a.shape,axis),np.delete(b.shape,axis))\n",
    "        if not good_shape:\n",
    "            err  = 'The shape along all dimensions but the one of axis={}'.format(axis)\n",
    "            err += ' should be equal, while here:\\n'\n",
    "            err += '  -> shape of a is {} \\n'.format(a.shape)\n",
    "            err += '  -> shape of b is {} \\n'.format(b.shape)\n",
    "            raise NameError(err)           \n",
    "    if Nmax:\n",
    "        sl=[slice(None)]*a.ndim\n",
    "        sl[axis]=slice(0,Nmax)\n",
    "        if same_arrays: a,b=a[sl],None\n",
    "        else          : a,b=a[sl],b[sl]          \n",
    "    if same_arrays:\n",
    "        ia,jb=np.arange(a.shape[axis]),[]\n",
    "    else:\n",
    "        ia,jb=np.arange(a.shape[axis]),np.arange(b.shape[axis])          \n",
    "    dt=np.dtype([('', np.intp)]*2)\n",
    "    if same_arrays: ij=np.fromiter(itertools.combinations(ia,2),dtype=dt)     \n",
    "    else          : ij=np.fromiter(itertools.product(ia,jb),dtype=dt)\n",
    "    ij=ij.view(np.intp).reshape(-1, 2)\n",
    "    if same_arrays: out=np.take(a,ij,axis=axis)\n",
    "    else          : out=np.stack([a.take(ij[:,0],axis=axis),b.take(ij[:,1],axis=axis)],axis=axis+1)\n",
    "    return out"
   ]
  },
  {
   "cell_type": "markdown",
   "metadata": {},
   "source": [
    "# Helper function for parallelization"
   ]
  },
  {
   "cell_type": "code",
   "execution_count": 5,
   "metadata": {},
   "outputs": [],
   "source": [
    "def adjust_array_size(small_array_list):\n",
    "    Nmax=np.max([a.shape[1] for a in small_array_list])\n",
    "    res=[]\n",
    "    for a in small_array_list:\n",
    "        tmp=np.zeros((a.shape[0],Nmax))\n",
    "        tmp.fill(np.nan)\n",
    "        tmp[:,:a.shape[1]:] = a\n",
    "        res.append(tmp)\n",
    "    return res"
   ]
  },
  {
   "cell_type": "markdown",
   "metadata": {},
   "source": [
    "# Reference arrays and time"
   ]
  },
  {
   "cell_type": "code",
   "execution_count": 6,
   "metadata": {},
   "outputs": [
    {
     "name": "stdout",
     "output_type": "stream",
     "text": [
      "1 loop, best of 3: 897 ms per loop\n",
      "1 loop, best of 3: 864 ms per loop\n"
     ]
    }
   ],
   "source": [
    "%timeit square_array(large_data['jet_pt'].values)\n",
    "%timeit square_array(large_data['el_pt'].values)"
   ]
  },
  {
   "cell_type": "code",
   "execution_count": 7,
   "metadata": {},
   "outputs": [
    {
     "name": "stdout",
     "output_type": "stream",
     "text": [
      "(1622880, 13)\n",
      "(1622880, 3)\n"
     ]
    }
   ],
   "source": [
    "jet_pt_ref=square_array(large_data['jet_pt'].values)\n",
    "ele_pt_ref=square_array(large_data['el_pt'].values)\n",
    "print(jet_pt_ref.shape)\n",
    "print(ele_pt_ref.shape)"
   ]
  },
  {
   "cell_type": "markdown",
   "metadata": {},
   "source": [
    "# Try with `ipyparallel`"
   ]
  },
  {
   "cell_type": "code",
   "execution_count": 8,
   "metadata": {},
   "outputs": [],
   "source": [
    "import ipyparallel as ipp\n",
    "rc=ipp.Client()\n",
    "view=rc[:]\n",
    "\n",
    "def just_try_ipypar():\n",
    "    print(view,rc.ids)\n",
    "    view.block=True\n",
    "    view['a'] = 5\n",
    "    view['b'] = 10\n",
    "    view.apply(lambda x: a+b+x, 27)"
   ]
  },
  {
   "cell_type": "code",
   "execution_count": 9,
   "metadata": {},
   "outputs": [
    {
     "name": "stdout",
     "output_type": "stream",
     "text": [
      "(<DirectView [0, 1, 2, 3,...]>, [0, 1, 2, 3, 4, 5])\n"
     ]
    }
   ],
   "source": [
    "just_try_ipypar()"
   ]
  },
  {
   "cell_type": "markdown",
   "metadata": {},
   "source": [
    "## Making the squared array"
   ]
  },
  {
   "cell_type": "code",
   "execution_count": 10,
   "metadata": {},
   "outputs": [],
   "source": [
    "def ipypar_square_array(a,Nworkers):\n",
    "    split_arrays=np.split(a,Nworkers)\n",
    "    outputs=adjust_array_size(view.map(square_array,split_arrays))\n",
    "    return np.concatenate(outputs)"
   ]
  },
  {
   "cell_type": "code",
   "execution_count": 12,
   "metadata": {},
   "outputs": [
    {
     "name": "stdout",
     "output_type": "stream",
     "text": [
      "1 loop, best of 3: 880 ms per loop\n",
      "1 loop, best of 3: 9.05 s per loop\n"
     ]
    }
   ],
   "source": [
    "%timeit square_array(large_data['jet_pt'].values)\n",
    "%timeit ipypar_square_array(large_data['jet_pt'].values,6)"
   ]
  },
  {
   "cell_type": "code",
   "execution_count": 13,
   "metadata": {},
   "outputs": [
    {
     "name": "stdout",
     "output_type": "stream",
     "text": [
      "(1622880, 13)\n"
     ]
    }
   ],
   "source": [
    "r=ipypar_square_array(large_data['jet_pt'].values,6)\n",
    "print(r.shape)"
   ]
  },
  {
   "cell_type": "markdown",
   "metadata": {},
   "source": [
    "## Making all the pairs"
   ]
  },
  {
   "cell_type": "code",
   "execution_count": 14,
   "metadata": {},
   "outputs": [],
   "source": [
    "def ipypar_all_pairs(a,b,Nworkers):\n",
    "    split_a,split_b=np.split(a,Nworkers),np.split(b,Nworkers)\n",
    "    outputs=view.map(all_pairs,split_a,split_b)\n",
    "    return np.concatenate(outputs)"
   ]
  },
  {
   "cell_type": "code",
   "execution_count": 15,
   "metadata": {},
   "outputs": [
    {
     "name": "stdout",
     "output_type": "stream",
     "text": [
      "1 loop, best of 3: 606 ms per loop\n",
      "1 loop, best of 3: 1.19 s per loop\n"
     ]
    }
   ],
   "source": [
    "%timeit all_pairs(jet_pt_ref,ele_pt_ref)\n",
    "%timeit ipypar_all_pairs(jet_pt_ref,ele_pt_ref,6)"
   ]
  },
  {
   "cell_type": "code",
   "execution_count": 16,
   "metadata": {},
   "outputs": [
    {
     "name": "stdout",
     "output_type": "stream",
     "text": [
      "(1622880, 39, 2)\n"
     ]
    }
   ],
   "source": [
    "r=ipypar_all_pairs(jet_pt_ref,ele_pt_ref,6)\n",
    "print(r.shape)"
   ]
  },
  {
   "cell_type": "markdown",
   "metadata": {},
   "source": [
    "# Try with `concurrent.futures`"
   ]
  },
  {
   "cell_type": "markdown",
   "metadata": {},
   "source": [
    "## Function definition"
   ]
  },
  {
   "cell_type": "code",
   "execution_count": 17,
   "metadata": {},
   "outputs": [],
   "source": [
    "from concurrent.futures import ProcessPoolExecutor, ThreadPoolExecutor\n",
    "\n",
    "def multithreading(func, args, workers):\n",
    "    with ThreadPoolExecutor(max_workers=workers) as executor:\n",
    "        exec_res = executor.map(func,args)\n",
    "    return list(exec_res)\n",
    "\n",
    "def multiprocessing(func, args, workers):\n",
    "    with ProcessPoolExecutor(max_workers=workers) as executor:\n",
    "        exec_res = executor.map(func,args)\n",
    "    return list(exec_res)"
   ]
  },
  {
   "cell_type": "markdown",
   "metadata": {},
   "source": [
    "## Making the squared array"
   ]
  },
  {
   "cell_type": "code",
   "execution_count": 20,
   "metadata": {},
   "outputs": [
    {
     "name": "stdout",
     "output_type": "stream",
     "text": [
      "1 loop, best of 3: 905 ms per loop\n",
      "1 loop, best of 3: 1.64 s per loop\n",
      "1 loop, best of 3: 10.2 s per loop\n"
     ]
    }
   ],
   "source": [
    "Nwokers=6\n",
    "split_arrays=np.split(large_data['jet_pt'].values,Nwokers)\n",
    "%timeit square_array(large_data['jet_pt'].values)\n",
    "%timeit multithreading (func=square_array,args=split_arrays,workers=Nwokers)\n",
    "%timeit multiprocessing(func=square_array,args=split_arrays,workers=Nwokers)"
   ]
  },
  {
   "cell_type": "code",
   "execution_count": 21,
   "metadata": {},
   "outputs": [
    {
     "name": "stdout",
     "output_type": "stream",
     "text": [
      "[(270480, 11), (270480, 13), (270480, 11), (270480, 13), (270480, 12), (270480, 12)]\n"
     ]
    }
   ],
   "source": [
    "r=multithreading (func=square_array,args=split_arrays,workers=Nwokers)\n",
    "print([i.shape for i in r])"
   ]
  },
  {
   "cell_type": "markdown",
   "metadata": {},
   "source": [
    "## Making all the possible pairs"
   ]
  },
  {
   "cell_type": "code",
   "execution_count": 30,
   "metadata": {},
   "outputs": [
    {
     "name": "stdout",
     "output_type": "stream",
     "text": [
      "1 loop, best of 3: 3.1 s per loop\n",
      "1 loop, best of 3: 2.37 s per loop\n"
     ]
    }
   ],
   "source": [
    "def all_pair_one_arg(doublet):\n",
    "    return all_pairs(doublet[0],doublet[1])\n",
    "\n",
    "# Get longer arrays, just for this test.\n",
    "jet_pt_ref_long=np.repeat(jet_pt_ref,5,axis=0)\n",
    "ele_pt_ref_long=np.repeat(ele_pt_ref,5,axis=0)\n",
    "\n",
    "Nworkers=6\n",
    "split_pair=[[a,b] for a,b in zip(np.split(jet_pt_ref_long,Nwokers),np.split(ele_pt_ref_long,Nwokers))]\n",
    "%timeit all_pairs(jet_pt_ref_long,ele_pt_ref_long)\n",
    "%timeit np.concatenate(multithreading(all_pair_one_arg,split_pair,workers=Nworkers))"
   ]
  },
  {
   "cell_type": "markdown",
   "metadata": {},
   "source": [
    "# Try with `threading`\n",
    "\n",
    "## Required functions"
   ]
  },
  {
   "cell_type": "code",
   "execution_count": 23,
   "metadata": {},
   "outputs": [],
   "source": [
    "from threading import Thread\n",
    "\n",
    "class p_square_array(Thread):    \n",
    "    def __init__(self,a):\n",
    "        Thread.__init__(self)\n",
    "        self.data=a\n",
    "        self.output=None       \n",
    "    def run(self):\n",
    "        self.output=square_array(self.data)\n",
    "        \n",
    "class p_all_pairs(Thread):    \n",
    "    def __init__(self,a,b):\n",
    "        Thread.__init__(self)\n",
    "        self.a=a\n",
    "        self.b=b\n",
    "        self.output=None        \n",
    "    def run(self,):\n",
    "         self.output=all_pairs(a=self.a,b=self.b)"
   ]
  },
  {
   "cell_type": "markdown",
   "metadata": {},
   "source": [
    "## Making square arrays"
   ]
  },
  {
   "cell_type": "code",
   "execution_count": 24,
   "metadata": {},
   "outputs": [],
   "source": [
    "def threading_square_array(data,Nworkers):\n",
    "    split_arrays=np.split(data,Nwokers)\n",
    "    all_threads=[p_square_array(a) for a in split_arrays]\n",
    "    for t in all_threads: t.start()\n",
    "    for t in all_threads: t.join()\n",
    "    \n",
    "    output_array = [t.output for t in all_threads]\n",
    "    Nmax=np.max([a.shape[1] for a in output_array])\n",
    "    res=[]\n",
    "    for a in output_array:\n",
    "        tmp=np.zeros((a.shape[0],Nmax))\n",
    "        tmp.fill(np.nan)\n",
    "        tmp[:,:a.shape[1]:] = a\n",
    "        res.append(tmp)\n",
    "        \n",
    "    return np.concatenate(res)"
   ]
  },
  {
   "cell_type": "code",
   "execution_count": 25,
   "metadata": {},
   "outputs": [
    {
     "name": "stdout",
     "output_type": "stream",
     "text": [
      "1 loop, best of 3: 1.84 s per loop\n",
      "(1622880, 13)\n"
     ]
    }
   ],
   "source": [
    "%timeit threading_square_array(large_data['jet_pt'].values,8)\n",
    "res=threading_square_array(large_data['jet_pt'].values,8)\n",
    "print(res.shape)"
   ]
  },
  {
   "cell_type": "code",
   "execution_count": 26,
   "metadata": {},
   "outputs": [
    {
     "name": "stdout",
     "output_type": "stream",
     "text": [
      "1 loop, best of 3: 5.12 s per loop\n",
      "1 loop, best of 3: 2.71 s per loop\n"
     ]
    }
   ],
   "source": [
    "def p_load_pts():\n",
    "    jet_pt=threading_square_array(large_data['jet_pt'].values,8)\n",
    "    ele_pt=threading_square_array(large_data['el_pt'].values,8)\n",
    "    mu_pt =threading_square_array(large_data['mu_pt'].values,8)\n",
    "\n",
    "def load_pts():\n",
    "    jet_pt=square_array(large_data['jet_pt'].values)\n",
    "    ele_pt=square_array(large_data['el_pt'].values)\n",
    "    mu_pt =square_array(large_data['mu_pt'].values)\n",
    "\n",
    "%timeit p_load_pts()\n",
    "%timeit load_pts()"
   ]
  },
  {
   "cell_type": "markdown",
   "metadata": {},
   "source": [
    "## Making all possible pairs"
   ]
  },
  {
   "cell_type": "code",
   "execution_count": 27,
   "metadata": {},
   "outputs": [],
   "source": [
    "def threading_all_pairs(a,b,Nworkers):\n",
    "    split_arrays_a=np.split(a,Nwokers)\n",
    "    split_arrays_b=np.split(b,Nwokers)\n",
    "    all_threads=[p_all_pairs(a,b) for a,b in zip(split_arrays_a,split_arrays_b)]\n",
    "    for t in all_threads: t.start()\n",
    "    for t in all_threads: t.join()\n",
    "    return np.concatenate([t.output for t in all_threads])"
   ]
  },
  {
   "cell_type": "code",
   "execution_count": 28,
   "metadata": {},
   "outputs": [
    {
     "name": "stdout",
     "output_type": "stream",
     "text": [
      "1 loop, best of 3: 476 ms per loop\n",
      "(1622880, 39, 2)\n"
     ]
    }
   ],
   "source": [
    "%timeit threading_all_pairs(jet_pt_ref,ele_pt_ref,8)\n",
    "r=threading_all_pairs(jet_pt_ref,ele_pt_ref,8)\n",
    "print(r.shape)"
   ]
  },
  {
   "cell_type": "code",
   "execution_count": 29,
   "metadata": {},
   "outputs": [
    {
     "name": "stdout",
     "output_type": "stream",
     "text": [
      "1 loop, best of 3: 655 ms per loop\n",
      "(1622880, 39, 2)\n"
     ]
    }
   ],
   "source": [
    "%timeit all_pairs(jet_pt_ref,ele_pt_ref)\n",
    "r=all_pairs(jet_pt_ref,ele_pt_ref)\n",
    "print(r.shape)"
   ]
  }
 ],
 "metadata": {
  "kernelspec": {
   "display_name": "Python 2",
   "language": "python",
   "name": "python2"
  },
  "language_info": {
   "codemirror_mode": {
    "name": "ipython",
    "version": 2
   },
   "file_extension": ".py",
   "mimetype": "text/x-python",
   "name": "python",
   "nbconvert_exporter": "python",
   "pygments_lexer": "ipython2",
   "version": "2.7.15rc1"
  }
 },
 "nbformat": 4,
 "nbformat_minor": 2
}
